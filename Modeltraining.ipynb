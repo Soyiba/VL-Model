from keras.models import Sequential
from keras.layers import Dense, Dropout, Activation,BatchNormalization, LSTM,Conv1D,MaxPooling1D,Flatten
from keras.layers import Embedding
from keras.callbacks import EarlyStopping,ModelCheckpoint
from keras.layers import Dense
from keras.layers import GlobalMaxPooling1D
import tensorflow as tf

# Here the model is being implemeted
batch_size = 32
nb_epoch = 30
hidden_size = 100
use_dropout=True

earlyStopping = EarlyStopping(monitor='val_loss', patience=1, verbose=0, mode='min') 
chckpoint = ModelCheckpoint('./drive/My Drive/data/cuDNNlstm_model.h5', save_best_only=True, monitor='val_loss', mode='min')
model = Sequential() 
model.add(LSTM(hidden_size,activation = None,recurrent_activation = 'sigmoid',return_sequences=True, input_shape=(15000, 128))) 
model.add(Dropout(0.2))
model = Sequential() 
model.add(Conv1D(8,1, activation='relu',input_shape=(15000, 128)))
#model = Sequential() 
#model.add(Conv1D(64,1, activation='relu',input_shape=(15000, 128))) 
#model = Sequential() 
#model.add(Conv1D(64,1,activation='relu', input_shape=(15000, 128))) 
model.add(MaxPooling1D()) 
model.add(Flatten())
model.add(Dense(2)) 
model.add(Activation('softmax'))
model.compile(loss='categorical_crossentropy', optimizer='adam', metrics=['mae','acc']) 
print(model.summary())
history = model.fit(X_train, Y_train, verbose=1, validation_split=0.1,shuffle=True, batch_size=batch_size, epochs= nb_epoch, callbacks=[earlyStopping])

model.save('/content/drive/My Drive/2mincleanrecall1/cuDNNlstm_model.h5')
