# data preparation
from sklearn.utils import shuffle
data = shuffle(data)
#print(np.shape(data))
#print((data))
nb_train = round(len(data) * 0.75)
data_train = data[:nb_train]
data_test = data[nb_train:]
#print(np.shape(data))

X_train = np.array([d[0][0:15000] for d in data_train])
Y_train = np.array([d[1] for d in data_train])
#print('Training data :', X_train.shape)

X_test = np.array([d[0] for d in data_test])
Y_test = np.array([d[1] for d in data_test])

#print('Training data :', X_test.shape)
X_train = X_train.reshape(X_train.shape[0], 15000, 128)
Y_train = Y_train.reshape(Y_train.shape[0], 1)
X_test = X_test.reshape(X_test.shape[0],15000, 128)
Y_test = Y_test.reshape(Y_test.shape[0], 1)


print('Training data :',X_train.shape)
print('Training label:',Y_train.shape)
print('Testing data  :',X_test.shape)
print('Testing label :',Y_test.shape)

print('\nOriginal training label:\n',Y_train[0:3])


#Encode labels to hot vectors (ex : 2 -> 0=[1,0] and 1=[0,1])

from tensorflow.keras.utils import to_categorical
Y_train = to_categorical(Y_train, num_classes = 2)

Y_test = to_categorical(Y_test, num_classes = 2)

print('\n One-hot encoded label:\n',Y_train[0:3])
